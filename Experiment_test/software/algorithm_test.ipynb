{
 "cells": [
  {
   "cell_type": "code",
   "execution_count": 2,
   "id": "6bc8967a-70f4-4743-b14e-a421c807b6fe",
   "metadata": {},
   "outputs": [],
   "source": [
    "import numpy, math\n",
    "\n",
    "from turbo import TurboM\n",
    "import numpy as np\n",
    "import torch\n",
    "import matplotlib\n",
    "import matplotlib.pyplot as plt"
   ]
  },
  {
   "cell_type": "code",
   "execution_count": 4,
   "id": "e075be18-56c4-426f-a95b-a1c144379da7",
   "metadata": {},
   "outputs": [
    {
     "name": "stdout",
     "output_type": "stream",
     "text": [
      "30 30\n",
      "[-10. -10. -10. -10. -10. -10. -10. -10. -10. -10. -10. -10. -10. -10.\n",
      " -10. -10. -10. -10. -10. -10. -10. -10. -10. -10. -10. -10. -10. -10.\n",
      " -10. -10.]\n"
     ]
    }
   ],
   "source": [
    "lb = np.array(np.ones(30)*-10)\n",
    "ub = np.array(np.ones(30)*10)\n",
    "print(len(lb), len(ub))\n",
    "print(lb)"
   ]
  },
  {
   "cell_type": "code",
   "execution_count": 5,
   "id": "dcab21aa-6eda-4336-bde9-83b09ebd222e",
   "metadata": {},
   "outputs": [],
   "source": [
    "def F10(x):\n",
    "    dim = len(x)\n",
    "    o = (\n",
    "        -20 * numpy.exp(-0.2 * numpy.sqrt(numpy.sum(x ** 2) / dim))\n",
    "        - numpy.exp(numpy.sum(numpy.cos(2 * math.pi * x)) / dim)\n",
    "        + 20\n",
    "        + numpy.exp(1)\n",
    "    )\n",
    "    return o"
   ]
  },
  {
   "cell_type": "code",
   "execution_count": 10,
   "id": "79d13a8d-43a6-4b98-8ea6-0e80af2e7e02",
   "metadata": {},
   "outputs": [],
   "source": [
    "class Ackley:\n",
    "    def __init__(self, dim=30):\n",
    "        self.dim = dim\n",
    "        self.lb = lb\n",
    "        self.ub = ub\n",
    "        \n",
    "    def __call__(self, x):\n",
    "        assert len(x[0]) == self.dim\n",
    "        assert x[0].ndim == 1\n",
    "        assert np.all(x <= self.ub) and np.all(x >= self.lb)\n",
    "\n",
    "        #print(x)\n",
    "\n",
    "        res = np.array([[F10(i)] for i in x])\n",
    "        \n",
    "        return res"
   ]
  },
  {
   "cell_type": "code",
   "execution_count": 11,
   "id": "b737c45d-762d-4e8a-949f-89fc97d96c4b",
   "metadata": {},
   "outputs": [],
   "source": [
    "f = Ackley(len(lb))"
   ]
  },
  {
   "cell_type": "code",
   "execution_count": 12,
   "id": "5a2b42d0-0d4c-4eab-9aa0-b8211e74e3e2",
   "metadata": {},
   "outputs": [
    {
     "name": "stdout",
     "output_type": "stream",
     "text": [
      "Using dtype = torch.float64 \n",
      "Using device = cuda\n"
     ]
    }
   ],
   "source": [
    "turbo_m = TurboM(\n",
    "    f=f,  # Handle to objective function\n",
    "    lb=f.lb,  # Numpy array specifying lower bounds\n",
    "    ub=f.ub,  # Numpy array specifying upper bounds\n",
    "    n_init=20,  # Number of initial bounds from an Symmetric Latin hypercube design\n",
    "    max_evals=500,  # Maximum number of evaluations\n",
    "    n_trust_regions=5,  # Number of trust regions\n",
    "    batch_size=2,  # How large batch size TuRBO uses\n",
    "    verbose=True,  # Print information from each batch\n",
    "    use_ard=True,  # Set to true if you want to use ARD for the GP kernel\n",
    "    max_cholesky_size=1000,  # When we switch from Cholesky to Lanczos\n",
    "    n_training_steps=50,  # Number of steps of ADAM to learn the hypers\n",
    "    min_cuda=1024,  # Run on the CPU for small datasets\n",
    "    device=\"cuda\",  # \"cpu\" or \"cuda\"\n",
    "    dtype=\"float64\",  # float64 or float32\n",
    ")"
   ]
  },
  {
   "cell_type": "code",
   "execution_count": null,
   "id": "2f0f6b03-2ec2-443f-b240-c6a89b1962ce",
   "metadata": {},
   "outputs": [
    {
     "name": "stdout",
     "output_type": "stream",
     "text": [
      "TR-0 starting from: 14.27\n",
      "TR-1 starting from: 14.06\n",
      "TR-2 starting from: 14.26\n",
      "TR-3 starting from: 14.47\n",
      "TR-4 starting from: 13.79\n"
     ]
    },
    {
     "name": "stderr",
     "output_type": "stream",
     "text": [
      "cat: /work/projects/p0020541/Yixuan/spinw/software/para_results.txt: No such file or directory\n"
     ]
    },
    {
     "name": "stdout",
     "output_type": "stream",
     "text": [
      "100) New best @ TR-4: 13.31\n",
      "104) New best @ TR-4: 13.18\n",
      "108) New best @ TR-4: 12.86\n",
      "110) New best @ TR-4: 11.83\n",
      "142) New best @ TR-4: 11.52\n",
      "146) New best @ TR-4: 10.58\n",
      "150) New best @ TR-4: 10.54\n",
      "158) New best @ TR-4: 10.34\n",
      "162) New best @ TR-4: 9.804\n",
      "164) New best @ TR-4: 9.582\n",
      "168) New best @ TR-4: 9.242\n",
      "184) New best @ TR-4: 9.229\n",
      "186) New best @ TR-4: 8.841\n",
      "196) New best @ TR-4: 8.127\n",
      "200) New best @ TR-4: 8.051\n",
      "202) New best @ TR-4: 7.863\n",
      "208) New best @ TR-4: 7.835\n",
      "216) New best @ TR-4: 7.457\n",
      "228) New best @ TR-4: 7.328\n",
      "232) New best @ TR-4: 7.236\n",
      "234) New best @ TR-4: 7.154\n",
      "236) New best @ TR-4: 6.561\n"
     ]
    }
   ],
   "source": [
    "turbo_m.optimize()"
   ]
  },
  {
   "cell_type": "code",
   "execution_count": null,
   "id": "416df882-7297-40aa-8343-6e6b0ab3e711",
   "metadata": {},
   "outputs": [],
   "source": [
    "X = turbo_m.X  # Evaluated points\n",
    "fX = turbo_m.fX  # Observed values\n",
    "ind_best = np.argmin(fX)\n",
    "f_best, x_best = fX[ind_best], X[ind_best, :]\n",
    "\n",
    "print(\"Best value found:\\n\\tf(x) = %.3f\\nObserved at:\\n\\tx = %s\" % (f_best, np.around(x_best, 3)))"
   ]
  },
  {
   "cell_type": "code",
   "execution_count": null,
   "id": "85e21db6-f310-4eba-a9ed-cc4b459a7577",
   "metadata": {},
   "outputs": [],
   "source": [
    "fig = plt.figure(figsize=(7, 5))\n",
    "matplotlib.rcParams.update({'font.size': 16})\n",
    "plt.plot(fX, 'b.', ms=10)  # Plot all evaluated points as blue dots\n",
    "plt.plot(np.minimum.accumulate(fX), 'r', lw=3)  # Plot cumulative minimum as a red line\n",
    "plt.xlim([0, len(fX)])\n",
    "plt.ylim([0, 30])\n",
    "plt.title(\"17D motor function\")\n",
    "\n",
    "plt.tight_layout()\n",
    "plt.savefig('motor.png', dpi=300)\n",
    "plt.show()"
   ]
  }
 ],
 "metadata": {
  "kernelspec": {
   "display_name": "spinw",
   "language": "python",
   "name": "spinw"
  },
  "language_info": {
   "codemirror_mode": {
    "name": "ipython",
    "version": 3
   },
   "file_extension": ".py",
   "mimetype": "text/x-python",
   "name": "python",
   "nbconvert_exporter": "python",
   "pygments_lexer": "ipython3",
   "version": "3.9.18"
  }
 },
 "nbformat": 4,
 "nbformat_minor": 5
}
