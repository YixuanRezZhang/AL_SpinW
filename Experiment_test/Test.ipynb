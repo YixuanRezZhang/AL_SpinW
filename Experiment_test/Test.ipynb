{
 "cells": [
  {
   "cell_type": "code",
   "execution_count": 1,
   "id": "77e779df-a33c-460b-a076-3b214e7d4203",
   "metadata": {},
   "outputs": [
    {
     "name": "stderr",
     "output_type": "stream",
     "text": [
      "/work/projects/p0020541/Yixuan/spinw/spinw_env/lib/python3.9/site-packages/tqdm/auto.py:21: TqdmWarning: IProgress not found. Please update jupyter and ipywidgets. See https://ipywidgets.readthedocs.io/en/stable/user_install.html\n",
      "  from .autonotebook import tqdm as notebook_tqdm\n"
     ]
    }
   ],
   "source": [
    "from software.turbo import TurboM\n",
    "import numpy as np\n",
    "import matplotlib.pyplot as plt\n",
    "import torch\n",
    "import matplotlib.pyplot as plt\n",
    "import os"
   ]
  },
  {
   "cell_type": "code",
   "execution_count": 2,
   "id": "e8f56677-6708-4043-a715-52484e8399b1",
   "metadata": {},
   "outputs": [],
   "source": [
    "import numpy as np\n",
    "\n",
    "def ackley_function(x, a=20, b=0.2, c=2*np.pi):\n",
    "    \"\"\"\n",
    "    计算d维Ackley函数。\n",
    "    \n",
    "    参数:\n",
    "    x (np.array): 输入向量，维度为d。\n",
    "    a, b, c (float): Ackley函数的参数。\n",
    "    \n",
    "    返回:\n",
    "    float: 函数在x处的值。\n",
    "    \"\"\"\n",
    "    d = len(x)\n",
    "    sum_of_squares = np.sum(x**2)\n",
    "    sum_of_cosines = np.sum(np.cos(c * x))\n",
    "    \n",
    "    term1 = -a * np.exp(-b * np.sqrt(sum_of_squares / d))\n",
    "    term2 = -np.exp(sum_of_cosines / d)\n",
    "    \n",
    "    return term1 + term2 + a + np.exp(1)"
   ]
  },
  {
   "cell_type": "code",
   "execution_count": 6,
   "id": "23243bb7-2fc0-40d7-8fa8-59658ccd73c5",
   "metadata": {},
   "outputs": [],
   "source": [
    "class Spinw:\n",
    "    def __init__(self, dim=4, lb=lb, ub=ub):\n",
    "        self.dim = dim\n",
    "        self.lb = lb\n",
    "        self.ub = ub\n",
    "        \n",
    "    def __call__(self, x):\n",
    "        assert len(x) == self.dim\n",
    "        assert x.ndim == 1\n",
    "        assert np.all(x <= self.ub) and np.all(x >= self.lb)\n",
    "        \n",
    "        loss = ackley_function(x)\n",
    "        \n",
    "        return loss"
   ]
  },
  {
   "cell_type": "code",
   "execution_count": 7,
   "id": "07740912-4147-4bdd-8d1e-b87d0683a907",
   "metadata": {},
   "outputs": [
    {
     "name": "stdout",
     "output_type": "stream",
     "text": [
      "[-10. -10. -10. -10. -10. -10. -10. -10. -10. -10.] [10. 10. 10. 10. 10. 10. 10. 10. 10. 10.]\n"
     ]
    }
   ],
   "source": [
    "dimension = 10\n",
    "lb = np.ones(dimension)*-10\n",
    "ub = np.ones(dimension)*10\n",
    "print(lb, ub)\n",
    "\n",
    "f = Spinw(len(lb), lb, ub)"
   ]
  },
  {
   "cell_type": "code",
   "execution_count": 9,
   "id": "0b86bbee-8f0b-471c-b392-1732b3038934",
   "metadata": {},
   "outputs": [
    {
     "name": "stdout",
     "output_type": "stream",
     "text": [
      "Using dtype = torch.float64 \n",
      "Using device = cuda\n"
     ]
    }
   ],
   "source": [
    "turbo_m = TurboM(\n",
    "    f=f,  # Handle to objective function\n",
    "    lb=f.lb,  # Numpy array specifying lower bounds\n",
    "    ub=f.ub,  # Numpy array specifying upper bounds\n",
    "    n_init=4,  # Number of initial bounds from an Symmetric Latin hypercube design\n",
    "    max_evals=100,  # Maximum number of evaluations\n",
    "    n_trust_regions=2,  # Number of trust regions\n",
    "    batch_size=2,  # How large batch size TuRBO uses\n",
    "    verbose=True,  # Print information from each batch\n",
    "    use_ard=True,  # Set to true if you want to use ARD for the GP kernel\n",
    "    max_cholesky_size=1000,  # When we switch from Cholesky to Lanczos\n",
    "    n_training_steps=50,  # Number of steps of ADAM to learn the hypers\n",
    "    min_cuda=1024,  # Run on the CPU for small datasets\n",
    "    device=\"cuda\",  # \"cpu\" or \"cuda\"\n",
    "    dtype=\"float64\",  # float64 or float32\n",
    ")"
   ]
  },
  {
   "cell_type": "code",
   "execution_count": 10,
   "id": "2c5f1da0-d7ea-40a0-b643-bbaa3bf75286",
   "metadata": {},
   "outputs": [
    {
     "name": "stdout",
     "output_type": "stream",
     "text": [
      "TR-0 starting from: 14.07\n",
      "TR-1 starting from: 14.79\n"
     ]
    },
    {
     "name": "stderr",
     "output_type": "stream",
     "text": [
      "cat: /work/projects/p0020541/Yixuan/SpinWave/Expr_with_Kalman_filter/para_results.txt: No such file or directory\n"
     ]
    },
    {
     "name": "stdout",
     "output_type": "stream",
     "text": [
      "8) New best @ TR-0: 13.81\n",
      "14) New best @ TR-0: 12.05\n",
      "16) New best @ TR-0: 11.89\n",
      "26) New best @ TR-0: 10.92\n",
      "30) New best @ TR-0: 9.055\n",
      "46) New best @ TR-0: 8.465\n",
      "50) New best @ TR-0: 7.226\n",
      "54) New best @ TR-0: 6.979\n",
      "56) New best @ TR-0: 6.265\n",
      "58) New best @ TR-0: 5.781\n",
      "70) New best @ TR-0: 5.656\n",
      "72) New best @ TR-0: 4.467\n",
      "84) New best @ TR-0: 3.306\n",
      "92) New best @ TR-0: 3.008\n"
     ]
    }
   ],
   "source": [
    "turbo_m.optimize()"
   ]
  },
  {
   "cell_type": "code",
   "execution_count": 14,
   "id": "809be4e0-14ab-4d61-9248-7fa4627704ca",
   "metadata": {},
   "outputs": [
    {
     "name": "stdout",
     "output_type": "stream",
     "text": [
      "Best value found:\n",
      "\tf(x) = 3.008\n",
      "Observed at:\n",
      "\tx = [ 0.141 -0.53  -0.722  0.124 -0.182 -0.877 -0.107  0.947 -0.042  0.073]\n"
     ]
    },
    {
     "name": "stderr",
     "output_type": "stream",
     "text": [
      "/tmp/ipykernel_2488944/3857413194.py:6: DeprecationWarning: Conversion of an array with ndim > 0 to a scalar is deprecated, and will error in future. Ensure you extract a single element from your array before performing this operation. (Deprecated NumPy 1.25.)\n",
      "  print(\"Best value found:\\n\\tf(x) = %.3f\\nObserved at:\\n\\tx = %s\" % (f_best, np.around(x_best, 3)))\n"
     ]
    }
   ],
   "source": [
    "X = turbo_m.X  # Evaluated points\n",
    "fX = turbo_m.fX  # Observed values\n",
    "ind_best = np.argmin(fX)\n",
    "f_best, x_best = fX[ind_best], X[ind_best, :]\n",
    "\n",
    "print(\"Best value found:\\n\\tf(x) = %.3f\\nObserved at:\\n\\tx = %s\" % (f_best, np.around(x_best, 3)))"
   ]
  },
  {
   "cell_type": "code",
   "execution_count": 12,
   "id": "78e0caa8-0f01-457d-871a-e3086d0d8bfa",
   "metadata": {},
   "outputs": [
    {
     "name": "stdout",
     "output_type": "stream",
     "text": [
      "92\n"
     ]
    }
   ],
   "source": [
    "print(ind_best)"
   ]
  },
  {
   "cell_type": "code",
   "execution_count": 102,
   "id": "33bdcf80-7b33-4ff7-ae0d-1f57a3c9d7a6",
   "metadata": {},
   "outputs": [
    {
     "name": "stdout",
     "output_type": "stream",
     "text": [
      "[14.78683009]\n"
     ]
    }
   ],
   "source": [
    "print(fX[6])"
   ]
  },
  {
   "cell_type": "code",
   "execution_count": 138,
   "id": "efc1c749-35ae-4fa3-be1a-db8dbc2882c4",
   "metadata": {},
   "outputs": [],
   "source": [
    "import numpy as np\n",
    "\n",
    "def cos_sim(A,B):\n",
    "    cosine = np.dot(A,B)/(np.linalg.norm(A)*np.linalg.norm(B))\n",
    "    return cosine\n",
    "\n",
    "def candidate_selection(X, fX, max_size = None):\n",
    "\n",
    "    ind_best = np.argmin(fX)\n",
    "    ind_list = np.argsort(fX, axis=0).squeeze()\n",
    "    \n",
    "    sort_fX = fX[ind_list]\n",
    "    sort_X = X[ind_list]\n",
    "\n",
    "    screened_number = np.sum((sort_fX<fX[ind_best]*1.5)!=0)\n",
    "    \n",
    "    cos_similarity = [cos_sim(sort_X[0], i) for i in sort_X]\n",
    "    select_fX = [sort_fX[0]]\n",
    "    select_X = [sort_X[0]]\n",
    "    select_index = [ind_list[0]]\n",
    "    \n",
    "    for i in range(1, screened_number):\n",
    "        cosS = np.array([cos_sim(sort_X[i], j) for j in select_X])\n",
    "        print((cosS<=0.9).all())\n",
    "        if (cosS<=0.9).all():\n",
    "            select_fX.append(sort_fX[i])\n",
    "            select_X.append(sort_X[i])\n",
    "            select_index.append(ind_list[i])        \n",
    "    \n",
    "    return np.array(select_X)[:max_size], np.array(select_fX)[:max_size], np.array(select_index)[:max_size]"
   ]
  },
  {
   "cell_type": "code",
   "execution_count": null,
   "id": "ed046fd5-738f-4806-a9d4-5070b50cc0b8",
   "metadata": {},
   "outputs": [],
   "source": [
    "resX, resfX, resindex = candidate_selection(X, fX)\n",
    "print(resindex)\n",
    "print(len(resfX))\n",
    "print(np.mean(resX, axis=1))\n",
    "print(np.std(resX, axis=1))"
   ]
  },
  {
   "cell_type": "code",
   "execution_count": 1,
   "id": "3268268f-dd7b-4e3e-9b35-8c31285c05d2",
   "metadata": {},
   "outputs": [
    {
     "ename": "NameError",
     "evalue": "name 'resfX' is not defined",
     "output_type": "error",
     "traceback": [
      "\u001b[0;31m---------------------------------------------------------------------------\u001b[0m",
      "\u001b[0;31mNameError\u001b[0m                                 Traceback (most recent call last)",
      "Cell \u001b[0;32mIn[1], line 1\u001b[0m\n\u001b[0;32m----> 1\u001b[0m \u001b[38;5;28mprint\u001b[39m(\u001b[43mresfX\u001b[49m\u001b[38;5;241m.\u001b[39msqueeze())\n",
      "\u001b[0;31mNameError\u001b[0m: name 'resfX' is not defined"
     ]
    }
   ],
   "source": [
    "print(resfX.squeeze())"
   ]
  },
  {
   "cell_type": "code",
   "execution_count": 145,
   "id": "ce306e1d-0d9f-4e6b-b6d5-132adbfb4e5d",
   "metadata": {},
   "outputs": [
    {
     "name": "stdout",
     "output_type": "stream",
     "text": [
      "[[4.22329838]\n",
      " [4.43640105]\n",
      " [4.43819123]\n",
      " [4.46679271]]\n"
     ]
    }
   ],
   "source": [
    "print(resfX[-4:])"
   ]
  },
  {
   "cell_type": "code",
   "execution_count": 3,
   "id": "c24c940e-3a8b-4b07-9da5-99af90728795",
   "metadata": {},
   "outputs": [
    {
     "name": "stdout",
     "output_type": "stream",
     "text": [
      "[[4.22329838]\n",
      " [4.43640105]\n",
      " [4.43819123]\n",
      " [4.46679271]]\n",
      "[4.22329838 4.43640105 4.43819123 4.46679271]\n"
     ]
    }
   ],
   "source": [
    "import numpy as np\n",
    "res = np.array([[4.22329838],\n",
    " [4.43640105],\n",
    " [4.43819123],\n",
    " [4.46679271]])\n",
    "\n",
    "print(res)\n",
    "print(res.squeeze())"
   ]
  },
  {
   "cell_type": "code",
   "execution_count": null,
   "id": "9b9609e7-ffc5-41cc-9ad8-aa45c4b79a67",
   "metadata": {},
   "outputs": [],
   "source": []
  },
  {
   "cell_type": "code",
   "execution_count": 1,
   "id": "4ab2af27-4971-4bd9-8c6e-0549554213b9",
   "metadata": {},
   "outputs": [],
   "source": [
    "# 手搓卡尔曼滤波 from 华侨大学EDR战队\n",
    "import numpy as np\n",
    "\n",
    "class EDR_KalmanFilter:\n",
    "    def __init__(self):\n",
    "        self.A = np.matrix([[1, 0, 1, 0], [0, 1, 0, 1], [0, 0, 1, 0], [0, 0, 0, 1]], np.float32)  # 状态转移矩阵\n",
    "        self.statePost = np.matrix(np.zeros((4,1),np.float32))  # 状态估计值\n",
    "        self.statePre = np.matrix(np.zeros((4,1),np.float32))  # 状态预测值\n",
    "        self.Q = np.matrix(np.eye(4))  # 过程噪声矩阵\n",
    "        self.errorCovPost = np.matrix(np.zeros((4, 4),np.float32))  # 协方差矩阵的估计值\n",
    "        self.errorCovPre = np.matrix(np.zeros((4, 4), np.float32))  # 协方差矩阵的预测值\n",
    "        self.H = np.matrix(np.zeros((4, 2), np.float32))  # 卡尔曼滤波增益矩阵\n",
    "        self.C = np.matrix([[1, 0, 0, 0], [0, 1, 0, 0]], np.float32)  # 状态观测矩阵\n",
    "        self.R = np.matrix(np.eye(2))  # 观测噪声矩阵\n",
    "\n",
    "    def predict(self):  # 按照卡尔曼滤波的公式1、2计算\n",
    "        self.statePre = self.A * self.statePost  # 卡尔曼滤波公式1\n",
    "        self.errorCovPre = self.A * self.errorCovPost * self.A.T + self.Q  # 卡尔曼滤波公式2\n",
    "        return self.statePre  # 返回卡尔曼滤波的预测值\n",
    "\n",
    "    def correct(self,measurement):  # 按照卡尔曼滤波的公式3、4、5计算\n",
    "        self.H = self.errorCovPre * self.C.T * np.linalg.inv(self.C * self.errorCovPre * self.C.T + self.R)  # 卡尔曼滤波公式3\n",
    "        self.statePost = self.statePre + self.H*(measurement - self.C * self.statePre)  # 卡尔曼滤波公式4\n",
    "        self.errorCovPost = self.errorCovPre - self.H * self.C * self.errorCovPre  # 卡尔曼滤波公式5\n",
    "        return self.statePost  # 返回卡尔曼滤波的估计值\n",
    "\n",
    "    def getNext(self, x, y):  # 滤波器的输入输出在此\n",
    "        measured = np.matrix([[np.float32(x)], [np.float32(y)]])\n",
    "        self.predict()\n",
    "        corrected = self.correct(measured)\n",
    "        x, y = int(corrected[0]), int(corrected[1])\n",
    "        return x, y"
   ]
  },
  {
   "cell_type": "code",
   "execution_count": null,
   "id": "2516ef32-7b5a-4743-b6b6-e6efd5a2062c",
   "metadata": {},
   "outputs": [],
   "source": []
  },
  {
   "cell_type": "code",
   "execution_count": null,
   "id": "b2524f0d-6c8f-47aa-81c0-b58a41ba60aa",
   "metadata": {},
   "outputs": [],
   "source": []
  },
  {
   "cell_type": "code",
   "execution_count": null,
   "id": "b19dc9b9-741f-489c-a182-22fd0c55a4c0",
   "metadata": {},
   "outputs": [],
   "source": []
  },
  {
   "cell_type": "code",
   "execution_count": null,
   "id": "d1b2f337-37b4-471c-8fe2-88e953b68708",
   "metadata": {},
   "outputs": [],
   "source": []
  },
  {
   "cell_type": "code",
   "execution_count": null,
   "id": "d306e60e-0c26-46e3-8ebe-a4c2ec68f210",
   "metadata": {},
   "outputs": [],
   "source": []
  },
  {
   "cell_type": "code",
   "execution_count": null,
   "id": "35a294db-32c6-462c-ae7f-9350608d8aeb",
   "metadata": {},
   "outputs": [],
   "source": []
  },
  {
   "cell_type": "code",
   "execution_count": 140,
   "id": "d03cfd2b-4e24-4ba8-9da8-4c974febae91",
   "metadata": {},
   "outputs": [],
   "source": [
    "import numpy as np\n",
    "import matplotlib.pyplot as plt\n",
    "\n",
    "from software.MantidData import mantidOutput\n",
    "\n",
    "### Reading Exper data and Exp_setup\n",
    "def generate_exp_k_path(path_descriptions):\n",
    "    'path description: list(K_path: str([[h1,k1,l1], [h2,k2,l2]]), Value: np.ndarray([h_value, k_value ,l_vaule]), grid: int(number))'\n",
    "    'example usage: [\"[[-h-1, 0, 0.5], [0, k+1, 0.5]]\", [1, 1, 0], 300]] or [\"[[1, -k, 0.5], [1, k, 0.5]]\", [0, 2, 0], 300]'\n",
    "\n",
    "    desc = path_descriptions[0]\n",
    "    Kv = path_descriptions[1]\n",
    "    path = eval(desc, {\"h\": Kv[0], \"k\": Kv[1], \"l\": Kv[2]})\n",
    "    path.append(path_descriptions[2])\n",
    "\n",
    "    return path"
   ]
  },
  {
   "cell_type": "code",
   "execution_count": 141,
   "id": "1fd6445b-a4ef-499a-8f73-f78f1182cc25",
   "metadata": {},
   "outputs": [],
   "source": [
    "paths = [\"[[1, -k, 0.5], [1, k, 0.5]]\", \"[[-h, 2, 0.5], [h, 2, 0.5]]\", \"[[-h-1, 0, 0.5], [0, k+1, 0.5]]\"]\n",
    "Expr = {1:{'Exp_info':['1K0E_slice_rotation_Ei70meV_5K.txt', paths[0]]}, 2:{'Exp_info':['H20E_slice_rotation_Ei70meV_5K.txt', paths[1]]}, 3:{'Exp_info':['Hm1Hp10E_slice_rotation_Ei70meV_5K.txt', paths[2]]}}\n",
    "### part for furture application\n",
    "Expr_grid = [None, None] #(Kpath_grid, Energy_grid)\n",
    "    \n",
    "for i in Expr.keys():\n",
    "    testfile = f\"files/data/{Expr[i]['Exp_info'][0]}\"\n",
    "    MO = mantidOutput(testfile)\n",
    "    K = max(np.abs(np.min(np.round(MO.XX, 4))), np.abs(np.max(np.round(MO.XX, 4))))\n",
    "    Expr[i]['Exp_info'].append(K)\n",
    "    Expr[i]['Exp_Kgrid'] = [generate_exp_k_path([Expr[i]['Exp_info'][1], [K,K,K], len(MO.XX) if Expr_grid[0] is None else Expr_grid[0]]), K]\n",
    "    Expr[i]['Exp_Egrid'] = [np.min(np.round(MO.YY, 4)), np.max(np.round(MO.YY, 4)), len(MO.YY) if Expr_grid[1] is None else Expr_grid[1]]"
   ]
  },
  {
   "cell_type": "code",
   "execution_count": 142,
   "id": "a8667b93-fbba-44f7-ac93-52b1e3408402",
   "metadata": {},
   "outputs": [
    {
     "name": "stdout",
     "output_type": "stream",
     "text": [
      "{1: {'Exp_info': ['1K0E_slice_rotation_Ei70meV_5K.txt', '[[1, -k, 0.5], [1, k, 0.5]]', 2.95], 'Exp_Kgrid': [[[1, -2.95, 0.5], [1, 2.95, 0.5], 60], 2.95], 'Exp_Egrid': [-4.625, 59.875, 87]}, 2: {'Exp_info': ['H20E_slice_rotation_Ei70meV_5K.txt', '[[-h, 2, 0.5], [h, 2, 0.5]]', 3.15], 'Exp_Kgrid': [[[-3.15, 2, 0.5], [3.15, 2, 0.5], 64], 3.15], 'Exp_Egrid': [-4.625, 59.875, 87]}, 3: {'Exp_info': ['Hm1Hp10E_slice_rotation_Ei70meV_5K.txt', '[[-h-1, 0, 0.5], [0, k+1, 0.5]]', 0.975], 'Exp_Kgrid': [[[-1.975, 0, 0.5], [0, 1.975, 0.5], 40], 0.975], 'Exp_Egrid': [-4.625, 59.875, 87]}}\n",
      "[-4.625, 59.875, 87]\n",
      "[[[1, -2.95, 0.5], [1, 2.95, 0.5], 60], 2.95]\n"
     ]
    }
   ],
   "source": [
    "print(Expr)\n",
    "\n",
    "print(Expr[1]['Exp_Egrid'])\n",
    "print(Expr[1]['Exp_Kgrid'])"
   ]
  },
  {
   "cell_type": "code",
   "execution_count": 143,
   "id": "4302662c-34b7-4e86-93ec-6837bda76ab8",
   "metadata": {},
   "outputs": [
    {
     "name": "stdout",
     "output_type": "stream",
     "text": [
      "[[87, 60], [87, 64], [87, 40]]\n"
     ]
    }
   ],
   "source": [
    "import os\n",
    "root_path = os.getcwd()+'/'\n",
    "paths = [\"[[1, -k, 0.5], [1, k, 0.5]]\", \"[[-h, 2, 0.5], [h, 2, 0.5]]\", \"[[-h-1, 0, 0.5], [0, k+1, 0.5]]\"]\n",
    "\n",
    "### In future the \"txt file\" can be subsitute to the experiment measurement function or the interface to the equipment\n",
    "Expr = {0:{'Exp_info':['1K0E_slice_rotation_Ei70meV_5K.txt', paths[0]]}, 1:{'Exp_info':['H20E_slice_rotation_Ei70meV_5K.txt', paths[1]]}, 2:{'Exp_info':['Hm1Hp10E_slice_rotation_Ei70meV_5K.txt', paths[2]]}}\n",
    "\n",
    "### part for furture application\n",
    "Expr_grid = [None, None] #[Energy_grid, Kpath_grid]\n",
    "    \n",
    "for i in Expr.keys():\n",
    "    testfile = f\"{root_path}files/data/{Expr[i]['Exp_info'][0]}\"\n",
    "    MO = mantidOutput(testfile)\n",
    "    K = max(np.abs(np.min(np.round(MO.XX, 4))), np.abs(np.max(np.round(MO.XX, 4))))\n",
    "    Expr[i]['Exp_info'].append(K)\n",
    "    Expr[i]['Exp_Kgrid'] = [generate_exp_k_path([Expr[i]['Exp_info'][1], [K,K,K], len(MO.XX) if Expr_grid[0] is None else Expr_grid[0]]), K]\n",
    "    Expr[i]['Exp_Egrid'] = [np.min(np.round(MO.YY, 4)), np.max(np.round(MO.YY, 4)), len(MO.YY) if Expr_grid[1] is None else Expr_grid[1]]\n",
    "    \n",
    "### example output: {1: {'Exp_info': ['1K0E_slice_rotation_Ei70meV_5K.txt', '[[1, -k, 0.5], [1, k, 0.5]]', 2.95], 'Exp_Kgrid': [[[1, -2.95, 0.5], [1, 2.95, 0.5], 60], 2.95], 'Exp_Egrid': [-4.625, 59.875, 87]}, 2: {'Exp_info': ['H20E_slice_rotation_Ei70meV_5K.txt', '[[-h, 2, 0.5], [h, 2, 0.5]]', 3.15], 'Exp_Kgrid': [[[-3.15, 2, 0.5], [3.15, 2, 0.5], 64], 3.15], 'Exp_Egrid': [-4.625, 59.875, 87]}, 3: {'Exp_info': ['Hm1Hp10E_slice_rotation_Ei70meV_5K.txt', '[[-h-1, 0, 0.5], [0, k+1, 0.5]]', 0.975], 'Exp_Kgrid': [[[-1.975, 0, 0.5], [0, 1.975, 0.5], 40], 0.975], 'Exp_Egrid': [-4.625, 59.875, 87]}}\n",
    "\n",
    "### Simulation_setup\n",
    "img_shape = [500, 500] #[Energy_grid, Kpath_grid]\n",
    "exp_img_shape = [[Expr[i]['Exp_Egrid'][2], Expr[i]['Exp_Kgrid'][0][2]] for i in Expr.keys()]\n",
    "\n",
    "print(exp_img_shape)\n",
    "\n",
    "# simulation Q and E for SpinW Simulation\n",
    "Q_paths = [[Expr[i]['Exp_Kgrid'][0][0], Expr[i]['Exp_Kgrid'][0][1], img_shape[1]] for i in Expr.keys()] \n",
    "E_grid = [[Expr[i]['Exp_Egrid'][0], Expr[i]['Exp_Egrid'][1], img_shape[0]] for i in Expr.keys()]\n",
    "energy_range = [[Expr[i]['Exp_Egrid'][0], Expr[i]['Exp_Egrid'][1]] for i in Expr.keys()]\n",
    "\n",
    "# Experiment Q and E\n",
    "Exp_Q_paths = [Expr[i]['Exp_Kgrid'][0] for i in Expr.keys()]\n",
    "Exp_E_paths = [Expr[i]['Exp_Egrid'] for i in Expr.keys()]"
   ]
  },
  {
   "cell_type": "code",
   "execution_count": 20,
   "id": "9029831d-b14d-4272-aebd-77641112c064",
   "metadata": {},
   "outputs": [
    {
     "name": "stdout",
     "output_type": "stream",
     "text": [
      "[[[1, -2.95, 0.5], [1, 2.95, 0.5], 500], [[-3.15, 2, 0.5], [3.15, 2, 0.5], 500], [[-1.975, 0, 0.5], [0, 1.975, 0.5], 500]]\n"
     ]
    }
   ],
   "source": [
    "print(Q_paths)"
   ]
  },
  {
   "cell_type": "code",
   "execution_count": 9,
   "id": "602f8efd-8d2e-4486-8133-470fa33b58d7",
   "metadata": {},
   "outputs": [
    {
     "name": "stdout",
     "output_type": "stream",
     "text": [
      "nan\n",
      "nan\n",
      "nan\n",
      "True\n",
      "[[ 9.056402e-04  5.235130e-04  5.110282e-05 ...  2.408889e-04\n",
      "   1.313619e-03  2.123862e-03]\n",
      " [ 2.206206e-03  2.620045e-03  7.418835e-05 ...  3.985501e-04\n",
      "   1.977279e-03  4.819380e-03]\n",
      " [ 7.819379e-03  3.258644e-03  1.472670e-04 ...  6.791021e-04\n",
      "   3.820106e-03  1.202537e-02]\n",
      " ...\n",
      " [-3.073567e-05 -2.882952e-05 -3.412843e-05 ...           nan\n",
      "            nan           nan]\n",
      " [-3.578254e-05 -2.143099e-05  0.000000e+00 ...           nan\n",
      "            nan           nan]\n",
      " [-2.474697e-05 -5.463848e-05           nan ...           nan\n",
      "            nan           nan]]\n",
      "<class 'numpy.ndarray'>\n"
     ]
    }
   ],
   "source": [
    "print(MO.II[80,30])\n",
    "print(np.max(MO.II))\n",
    "print(np.min(MO.II))\n",
    "\n",
    "\n",
    "print(np.isnan(MO.II[80,30]))\n",
    "\n",
    "print(MO.II)\n",
    "print(type(MO.II))"
   ]
  },
  {
   "cell_type": "code",
   "execution_count": 45,
   "id": "a5694e58-2447-4962-abc0-0160c151ee05",
   "metadata": {},
   "outputs": [
    {
     "data": {
      "image/png": "[encoded data removed]",
      "text/plain": [
       "<Figure size 640x480 with 2 Axes>"
      ]
     },
     "metadata": {},
     "output_type": "display_data"
    }
   ],
   "source": [
    "data = np.array([[1,2,3],\n",
    "                 [4,5,6],\n",
    "                 [7,8,9]])  # 生成一个3x3的随机矩阵\n",
    "plt.imshow(data, vmin=0, vmax=9, cmap='hot', origin='lower')  # 绘制矩阵\n",
    "plt.colorbar()  # 显示颜色条\n",
    "plt.show()"
   ]
  },
  {
   "cell_type": "code",
   "execution_count": 87,
   "id": "072baff0-7bd1-440b-bd31-64657c75e349",
   "metadata": {},
   "outputs": [],
   "source": [
    "def generate_initial_grid(interval, img_shape, test_num=0):\n",
    "\n",
    "    #io = IO(root_path, test_num)\n",
    "    \n",
    "    rim_x = (img_shape[0]-int(img_shape[0]/interval)*interval)/2\n",
    "    rim_y = (img_shape[1]-int(img_shape[1]/interval)*interval)/2\n",
    "    x = np.arange(rim_x+int(interval/2), img_shape[0], interval)\n",
    "    y = np.arange(rim_y+int(interval/2), img_shape[1], interval)\n",
    "    \n",
    "    xv, yv = np.meshgrid(x, y)\n",
    "    grid_points = np.vstack([xv.ravel(), yv.ravel()]).T\n",
    "    return grid_points"
   ]
  },
  {
   "cell_type": "code",
   "execution_count": 90,
   "id": "b610392b-5b6a-43b7-bb0a-7d6f90efcb5d",
   "metadata": {},
   "outputs": [],
   "source": [
    "interval = 20\n",
    "\n",
    "image_shape = [87, 60]\n",
    "\n",
    "data = generate_initial_grid(interval, image_shape)"
   ]
  },
  {
   "cell_type": "code",
   "execution_count": 91,
   "id": "799ac177-b81c-4b2b-92bb-2e0ed253c006",
   "metadata": {},
   "outputs": [
    {
     "name": "stdout",
     "output_type": "stream",
     "text": [
      "[[13.5 10. ]\n",
      " [33.5 10. ]\n",
      " [53.5 10. ]\n",
      " [73.5 10. ]\n",
      " [13.5 30. ]\n",
      " [33.5 30. ]\n",
      " [53.5 30. ]\n",
      " [73.5 30. ]\n",
      " [13.5 50. ]\n",
      " [33.5 50. ]\n",
      " [53.5 50. ]\n",
      " [73.5 50. ]]\n",
      "<class 'numpy.ndarray'>\n"
     ]
    }
   ],
   "source": [
    "print(data)\n",
    "print(type(data))"
   ]
  },
  {
   "cell_type": "code",
   "execution_count": 4,
   "id": "4f3813ad-fd3e-4263-b620-afc76e2f269e",
   "metadata": {},
   "outputs": [
    {
     "name": "stdout",
     "output_type": "stream",
     "text": [
      "[[0.98510362 0.16122268 0.19352113 0.24386836 0.79754313]\n",
      " [0.11683737 0.27397715 0.05303312 0.82550604 0.75347854]\n",
      " [0.38377912 0.90028236 0.63514242 0.89833044 0.42075593]\n",
      " [0.45152973 0.39119181 0.37255266 0.57238276 0.42074579]\n",
      " [0.62973087 0.58848031 0.16238941 0.34434773 0.02384355]]\n",
      "True\n"
     ]
    }
   ],
   "source": [
    "import numpy as np\n",
    "\n",
    "data = np.random.random((5,5))\n",
    "print(data)\n",
    "\n",
    "print((0 <= data[:,0]).all() and (data[:,0] <= 0.5).any())"
   ]
  },
  {
   "cell_type": "code",
   "execution_count": null,
   "id": "aba50af2-04f2-4efe-93d6-0593040fad94",
   "metadata": {},
   "outputs": [],
   "source": []
  },
  {
   "cell_type": "code",
   "execution_count": 74,
   "id": "fef63d19-f105-4be9-935b-0e684f9335e7",
   "metadata": {},
   "outputs": [
    {
     "name": "stdout",
     "output_type": "stream",
     "text": [
      "[[ 4.30451416 17.33612384]\n",
      " [ 3.66961237 23.88253923]\n",
      " [21.16750884 48.42209859]\n",
      " [54.5849817  43.2837486 ]\n",
      " [37.85094881  6.5523787 ]]\n",
      "[[1.54368336 0.04508345]\n",
      " [0.48565559 2.59091011]\n",
      " [0.65751072 6.70294323]\n",
      " [7.13975751 7.99278607]\n",
      " [3.66816862 5.50269211]]\n",
      "[ 7.78548202  7.19026159 23.59453954 54.92342034 39.23526451]\n",
      "[[8.00000000e+00 4.50834534e-02]\n",
      " [7.00000000e+00 2.59091011e+00]\n",
      " [2.40000000e+01 6.70294323e+00]\n",
      " [5.50000000e+01 7.99278607e+00]\n",
      " [3.90000000e+01 5.50269211e+00]]\n"
     ]
    }
   ],
   "source": [
    "Data = np.random.randint(60, size=(5,2))+np.random.random((5,2))\n",
    "print(Data)\n",
    "\n",
    "E = np.random.random((5,2))*10\n",
    "print(E)\n",
    "\n",
    "simu_E = [-4, 60, 60]\n",
    "\n",
    "simu_energy_to_index = (Data[:,0]-simu_E[0])/(simu_E[1]-simu_E[0])*simu_E[2]\n",
    "print(simu_energy_to_index)\n",
    "E[:,0] = np.array([np.around(i, 0) for i in simu_energy_to_index])\n",
    "\n",
    "print(E)\n",
    "\n",
    "\n",
    "\n",
    "# simu_index_to_energy = (simu_energy_to_index/simu_E[2])*(simu_E[1]-simu_E[0])+simu_E[0]\n",
    "# print(simu_index_to_energy)\n",
    "\n",
    "# simu_Q_to_index = (Q-self.simu_Q[0])/(self.simu_Q[1]-self.simu_Q[0])*self.simu_Q[2]\n",
    "# simu_index_to_Q = (I/self.simu_Q[2])*(self.simu_Q[1]-self.simu_Q[0])+self.simu_Q[0]\n",
    "\n",
    "# '''1. simu energy <-> simu index'''\n",
    "# simu_energy_to_index = (E-self.simu_E[0])/(self.simu_E[1]-self.simu_E[0])*self.simu_E[2]\n",
    "# simu_index_to_energy = (I/self.simu_E[2])*(self.simu_E[1]-self.simu_E[0])+self.simu_E[0]\n",
    "# '''2. expr energy <-> expr index'''\n",
    "# expr_energy_to_index = (EE-self.expr_E[0])/(self.expr_E[1]-self.expr_E[0])*self.expr_E[2]\n",
    "# expr_index_to_energy = (EI/self.expr_E[2])*(self.expr_E[1]-self.expr_E[0])+self.expr_E[0]\n",
    "\n",
    "# '''3. simu Qpath <-> simu index'''\n",
    "# simu_Q_to_index = (Q-self.simu_Q[0])/(self.simu_Q[1]-self.simu_Q[0])*self.simu_Q[2]\n",
    "# simu_index_to_Q = (I/self.simu_Q[2])*(self.simu_Q[1]-self.simu_Q[0])+self.simu_Q[0]\n",
    "# '''4. expr Qpath <-> expr index'''\n",
    "# expr_Q_to_index = (EE-self.expr_Q[0])/(self.expr_Q[1]-self.expr_Q[0])*self.expr_Q[2]\n",
    "# expr_index_to_Q = (EI/self.expr_Q[2])*(self.expr_Q[1]-self.expr_Q[0])+self.expr_Q[0]\n"
   ]
  },
  {
   "cell_type": "code",
   "execution_count": null,
   "id": "17530e2f-782b-4302-84be-c64bbcaacebc",
   "metadata": {},
   "outputs": [],
   "source": []
  },
  {
   "cell_type": "code",
   "execution_count": null,
   "id": "9c9f867d-a935-410d-af19-54301807362f",
   "metadata": {},
   "outputs": [],
   "source": []
  },
  {
   "cell_type": "code",
   "execution_count": null,
   "id": "01b14857-42f6-4652-994c-b726a638af12",
   "metadata": {},
   "outputs": [],
   "source": []
  },
  {
   "cell_type": "code",
   "execution_count": null,
   "id": "0c912ffd-8ab1-45b8-97fd-5ee2a18cd4cf",
   "metadata": {},
   "outputs": [],
   "source": []
  },
  {
   "cell_type": "code",
   "execution_count": 41,
   "id": "5116f89e-0d63-47a5-a472-97aa20e3e150",
   "metadata": {},
   "outputs": [
    {
     "name": "stdout",
     "output_type": "stream",
     "text": [
      "<class 'numpy.ndarray'>\n"
     ]
    }
   ],
   "source": [
    "Kv = np.array([0, 0])\n",
    "print(type(Kv))\n",
    "Exp_K_path = [[[1, Kv[0], 0.5], [1, Kv[1], 0.5]], [[Kv[0], 2, 0.5], [Kv[1], 2, 0.5]], [[Kv[0]-1, 0, 0.5], [0, Kv[1]+1, 0.5]]]"
   ]
  },
  {
   "cell_type": "code",
   "execution_count": 59,
   "id": "d480aefb-8da2-41cc-a8bb-89205f4b771c",
   "metadata": {},
   "outputs": [
    {
     "name": "stdout",
     "output_type": "stream",
     "text": [
      "[[1, -2, 0.5], [1, 2, 0.5], 300]\n",
      "[[-2, 2, 0.5], [2, 2, 0.5], 300]\n",
      "[[-2, 0, 0.5], [0, 2, 0.5], 300]\n"
     ]
    }
   ],
   "source": [
    "import numpy as np\n",
    "\n",
    "def generate_exp_k_path(path_descriptions):\n",
    "\n",
    "    desc = path_descriptions[0]\n",
    "    Kv = path_descriptions[1]\n",
    "    path = eval(desc, {\"h\": Kv[0], \"k\": Kv[1], \"l\": Kv[2]})\n",
    "    path.append(path_descriptions[2])\n",
    "\n",
    "    return path\n",
    "\n",
    "# path description: [K_path: str, Value: np.ndarray([h, k ,l]), grid: int]\n",
    "path_descriptions = [\n",
    "    [\"[[1, -k, 0.5], [1, k, 0.5]]\", [2, 2, 2], 300], \n",
    "    [\"[[-h, 2, 0.5], [h, 2, 0.5]]\", [2, 2, 2], 300],\n",
    "    [\"[[-h-1, 0, 0.5], [0, k+1, 0.5]]\", [1, 1, 1], 300]\n",
    "]\n",
    "\n",
    "# 生成 Exp_K_path\n",
    "for desc in path_descriptions:\n",
    "    Exp_K_path = generate_exp_k_path(desc)\n",
    "    print(Exp_K_path)"
   ]
  },
  {
   "cell_type": "code",
   "execution_count": null,
   "id": "f877a58a-060e-4376-b155-6e09ef027ade",
   "metadata": {},
   "outputs": [],
   "source": []
  },
  {
   "cell_type": "code",
   "execution_count": null,
   "id": "1a9b342c-40d9-4ce5-abcd-906a623c6369",
   "metadata": {},
   "outputs": [],
   "source": []
  },
  {
   "cell_type": "code",
   "execution_count": 11,
   "id": "6fc57b36-517c-4e82-b4e8-a8b9245c5a0e",
   "metadata": {},
   "outputs": [
    {
     "name": "stdout",
     "output_type": "stream",
     "text": [
      "-2.95 2.95\n",
      "-4.625 59.875\n",
      "87\n",
      "(60,)\n",
      "[-2.95       -2.85       -2.75       -2.65       -2.55       -2.450001\n",
      " -2.350001   -2.250001   -2.150001   -2.050001   -1.950001   -1.850001\n",
      " -1.750001   -1.650001   -1.550001   -1.450001   -1.350002   -1.250002\n",
      " -1.150002   -1.050002   -0.950002   -0.8500021  -0.7500021  -0.6500022\n",
      " -0.5500023  -0.4500024  -0.3500025  -0.2500026  -0.1500027  -0.05000281\n",
      "  0.04999709  0.149997    0.2499969   0.3499968   0.4499967   0.5499966\n",
      "  0.6499965   0.7499964   0.8499963   0.9499962   1.049996    1.149996\n",
      "  1.249996    1.349996    1.449996    1.549996    1.649996    1.749995\n",
      "  1.849995    1.949995    2.049995    2.149995    2.249995    2.349995\n",
      "  2.449995    2.549995    2.649995    2.749995    2.849994    2.949994  ]\n",
      "[-4.625 -3.875 -3.125 -2.375 -1.625 -0.875 -0.125  0.625  1.375  2.125\n",
      "  2.875  3.625  4.375  5.125  5.875  6.625  7.375  8.125  8.875  9.625\n",
      " 10.375 11.125 11.875 12.625 13.375 14.125 14.875 15.625 16.375 17.125\n",
      " 17.875 18.625 19.375 20.125 20.875 21.625 22.375 23.125 23.875 24.625\n",
      " 25.375 26.125 26.875 27.625 28.375 29.125 29.875 30.625 31.375 32.125\n",
      " 32.875 33.625 34.375 35.125 35.875 36.625 37.375 38.125 38.875 39.625\n",
      " 40.375 41.125 41.875 42.625 43.375 44.125 44.875 45.625 46.375 47.125\n",
      " 47.875 48.625 49.375 50.125 50.875 51.625 52.375 53.125 53.875 54.625\n",
      " 55.375 56.125 56.875 57.625 58.375 59.125 59.875]\n",
      "(87, 60)\n",
      "9.714588e-05\n",
      "-8.457509e-05\n",
      "-3.15 3.15\n",
      "-4.625 59.875\n",
      "87\n",
      "(64,)\n",
      "[-3.15       -3.05       -2.95       -2.85       -2.75       -2.650001\n",
      " -2.550001   -2.450001   -2.350001   -2.250001   -2.150001   -2.050001\n",
      " -1.950001   -1.850001   -1.750001   -1.650002   -1.550002   -1.450002\n",
      " -1.350002   -1.250002   -1.150002   -1.050002   -0.9500022  -0.8500023\n",
      " -0.7500024  -0.6500025  -0.5500026  -0.4500027  -0.3500028  -0.2500029\n",
      " -0.150003   -0.05000305  0.04999685  0.1499968   0.2499967   0.3499966\n",
      "  0.4499965   0.5499964   0.6499963   0.7499962   0.8499961   0.949996\n",
      "  1.049996    1.149996    1.249996    1.349996    1.449996    1.549995\n",
      "  1.649995    1.749995    1.849995    1.949995    2.049995    2.149995\n",
      "  2.249995    2.349995    2.449995    2.549994    2.649994    2.749994\n",
      "  2.849994    2.949994    3.049994    3.149994  ]\n",
      "[-4.625 -3.875 -3.125 -2.375 -1.625 -0.875 -0.125  0.625  1.375  2.125\n",
      "  2.875  3.625  4.375  5.125  5.875  6.625  7.375  8.125  8.875  9.625\n",
      " 10.375 11.125 11.875 12.625 13.375 14.125 14.875 15.625 16.375 17.125\n",
      " 17.875 18.625 19.375 20.125 20.875 21.625 22.375 23.125 23.875 24.625\n",
      " 25.375 26.125 26.875 27.625 28.375 29.125 29.875 30.625 31.375 32.125\n",
      " 32.875 33.625 34.375 35.125 35.875 36.625 37.375 38.125 38.875 39.625\n",
      " 40.375 41.125 41.875 42.625 43.375 44.125 44.875 45.625 46.375 47.125\n",
      " 47.875 48.625 49.375 50.125 50.875 51.625 52.375 53.125 53.875 54.625\n",
      " 55.375 56.125 56.875 57.625 58.375 59.125 59.875]\n",
      "(87, 64)\n",
      "0.0003727307\n",
      "-0.000190271\n",
      "-0.975 0.975\n",
      "-4.625 59.875\n",
      "87\n",
      "(40,)\n",
      "[-0.975      -0.925      -0.875      -0.825      -0.7749999  -0.7249999\n",
      " -0.6749999  -0.6249999  -0.5749999  -0.5249999  -0.4749999  -0.4249999\n",
      " -0.3749999  -0.3249998  -0.2749998  -0.2249998  -0.1749998  -0.1249998\n",
      " -0.07499978 -0.02499977  0.02500024  0.07500026  0.1250003   0.1750003\n",
      "  0.2250003   0.2750003   0.3250003   0.3750003   0.4250003   0.4750004\n",
      "  0.5250004   0.5750004   0.6250004   0.6750004   0.7250004   0.7750004\n",
      "  0.8250004   0.8750004   0.9250005   0.9750005 ]\n",
      "[-4.625 -3.875 -3.125 -2.375 -1.625 -0.875 -0.125  0.625  1.375  2.125\n",
      "  2.875  3.625  4.375  5.125  5.875  6.625  7.375  8.125  8.875  9.625\n",
      " 10.375 11.125 11.875 12.625 13.375 14.125 14.875 15.625 16.375 17.125\n",
      " 17.875 18.625 19.375 20.125 20.875 21.625 22.375 23.125 23.875 24.625\n",
      " 25.375 26.125 26.875 27.625 28.375 29.125 29.875 30.625 31.375 32.125\n",
      " 32.875 33.625 34.375 35.125 35.875 36.625 37.375 38.125 38.875 39.625\n",
      " 40.375 41.125 41.875 42.625 43.375 44.125 44.875 45.625 46.375 47.125\n",
      " 47.875 48.625 49.375 50.125 50.875 51.625 52.375 53.125 53.875 54.625\n",
      " 55.375 56.125 56.875 57.625 58.375 59.125 59.875]\n",
      "(87, 40)\n",
      "0.0001227624\n",
      "-8.926279e-05\n"
     ]
    },
    {
     "data": {
      "image/png": "[encoded data removed]",
      "text/plain": [
       "<Figure size 1500x500 with 3 Axes>"
      ]
     },
     "metadata": {},
     "output_type": "display_data"
    }
   ],
   "source": [
    "tests = ['1K0E_slice_rotation_Ei70meV_5K.txt','H20E_slice_rotation_Ei70meV_5K.txt','Hm1Hp10E_slice_rotation_Ei70meV_5K.txt']\n",
    "\n",
    "fig, ax = plt.subplots(ncols=len(tests), figsize=(5*len(tests), 5))\n",
    "\n",
    "for num,i in enumerate(tests):\n",
    "    \n",
    "    testfile = f'files/data/{i}'\n",
    "    cmap = 'OrRd'\n",
    "    MO = mantidOutput(testfile)\n",
    "    print(np.min(np.round(MO.XX, 4)), np.max(np.round(MO.XX, 4)))\n",
    "    print(np.min(np.round(MO.YY, 4)), np.max(np.round(MO.YY, 4)))\n",
    "    \n",
    "    print(len(MO.YY))#.shape)\n",
    "    print(MO.XX.shape)\n",
    "    \n",
    "    print(MO.XX)\n",
    "    print(MO.YY)\n",
    "    \n",
    "    # print(MO.II[81,30])\n",
    "    print(MO.II.shape)\n",
    "    print(np.max(np.nan_to_num(MO.II[20:,:])))\n",
    "    print(np.min(np.nan_to_num(MO.II[20:,:])))\n",
    "    # print(MO.II.shape)\n",
    "    # print(MO.YY[0:12])\n",
    "    \n",
    "\n",
    "    #ax[num].pcolormesh(MO.XX[:], MO.YY[15:], MO.II[15:, :], vmin=0, vmax=np.max(np.nan_to_num(MO.II[15:,10:50])), cmap=cmap)\n",
    "    ax[num].imshow(np.flipud(MO.II)[:-30,:], aspect='auto', vmax=0.0001, cmap='OrRd')\n",
    "    #plt.pcolormesh(MO.XX[:], MO.YY[12:], np.nan_to_num(MO.II[12:, :]), vmin=0, vmax=np.max(np.nan_to_num(MO.II[15:,:])), cmap=cmap)\n",
    "\n",
    "plt.show()"
   ]
  },
  {
   "cell_type": "markdown",
   "id": "80cc6e1e-1d17-4f63-a903-add390181bba",
   "metadata": {},
   "source": [
    "- Exp: 80*67 pixels\n",
    "- Simu: 500*300 currently\n",
    "- Info to be added: K_path grid xinfo + Energy yinfo\n",
    "- 2D intensity interpolation\n",
    "- non processing"
   ]
  },
  {
   "cell_type": "code",
   "execution_count": 20,
   "id": "fbc9c610-4de0-4c6c-bba7-db01e55adc23",
   "metadata": {},
   "outputs": [],
   "source": [
    "import cv2\n",
    "\n",
    "# Load an image\n",
    "image = MO.II[15:, :]\n",
    "\n",
    "new_width, new_height = 30,30\n",
    "\n",
    "# Resize the image using different interpolation methods\n",
    "nearest = cv2.resize(image, (new_width, new_height), interpolation=cv2.INTER_NEAREST)\n",
    "bilinear = cv2.resize(image, (new_width, new_height), interpolation=cv2.INTER_LINEAR)\n",
    "bicubic = cv2.resize(image, (new_width, new_height), interpolation=cv2.INTER_CUBIC)\n",
    "lanczos = cv2.resize(image, (new_width, new_height), interpolation=cv2.INTER_LANCZOS4)"
   ]
  },
  {
   "cell_type": "code",
   "execution_count": 21,
   "id": "d7cad3be-3453-448f-a6be-7ef068be964c",
   "metadata": {},
   "outputs": [
    {
     "data": {
      "image/png": "[encoded data removed]",
      "text/plain": [
       "<Figure size 2000x500 with 4 Axes>"
      ]
     },
     "metadata": {},
     "output_type": "display_data"
    }
   ],
   "source": [
    "tests = [nearest, bilinear, bicubic, lanczos]\n",
    "\n",
    "fig, ax = plt.subplots(ncols=len(tests), figsize=(5*len(tests), 5))\n",
    "\n",
    "for num,i in enumerate(tests):\n",
    "    \n",
    "    testfile = f'files/data/{i}'\n",
    "    cmap = 'OrRd'\n",
    "    ax[num].imshow(i, aspect='auto', vmax=1e-4, cmap=cmap)\n",
    "\n",
    "plt.show()"
   ]
  },
  {
   "cell_type": "code",
   "execution_count": null,
   "id": "2afbf0f1-1b3d-4482-81d1-687fc0b5d87d",
   "metadata": {},
   "outputs": [],
   "source": []
  },
  {
   "cell_type": "code",
   "execution_count": 8,
   "id": "ae735bd1-00c1-4e8d-8340-ad69abc33202",
   "metadata": {},
   "outputs": [
    {
     "name": "stdout",
     "output_type": "stream",
     "text": [
      "nan\n",
      "(87, 64)\n",
      "9.067561e-05\n",
      "(87, 64)\n"
     ]
    },
    {
     "data": {
      "image/png": "[encoded data removed]",
      "text/plain": [
       "<Figure size 640x480 with 1 Axes>"
      ]
     },
     "metadata": {},
     "output_type": "display_data"
    }
   ],
   "source": [
    "testfile = 'files/data/'\n",
    "cmap = 'OrRd'\n",
    "MO = mantidOutput(testfile)\n",
    "print(MO.II[81,30])\n",
    "print(MO.II.shape)\n",
    "print(np.max(np.nan_to_num(MO.II[15:,10:50])))\n",
    "print(MO.II.shape)\n",
    "\n",
    "plt.figure()\n",
    "plt.pcolormesh(MO.XX[:], MO.YY[15:], MO.II[15:, :], vmin=0, vmax=np.max(np.nan_to_num(MO.II[15:,10:50])), cmap=cmap)\n",
    "#plt.pcolormesh(MO.XX[:], MO.YY[12:], np.nan_to_num(MO.II[12:, :]), vmin=0, vmax=np.max(np.nan_to_num(MO.II[15:,:])), cmap=cmap)\n",
    "\n",
    "plt.show()"
   ]
  },
  {
   "cell_type": "code",
   "execution_count": null,
   "id": "4c547f19-174d-491b-9ebd-c6c11d1acb52",
   "metadata": {},
   "outputs": [],
   "source": [
    "testfile = 'data/'\n",
    "cmap = 'OrRd'\n",
    "MO = mantidOutput(testfile)\n",
    "print(MO.II[81,30])\n",
    "print(MO.II.shape)\n",
    "print(np.max(np.nan_to_num(MO.II[15:,10:50])))\n",
    "print(MO.II.shape)\n",
    "\n",
    "plt.figure()\n",
    "plt.pcolormesh(MO.XX[:], MO.YY[15:], MO.II[15:, :], vmin=0, vmax=np.max(np.nan_to_num(MO.II[15:,10:50])), cmap=cmap)\n",
    "#plt.pcolormesh(MO.XX[:], MO.YY[12:], np.nan_to_num(MO.II[12:, :]), vmin=0, vmax=np.max(np.nan_to_num(MO.II[15:,:])), cmap=cmap)\n",
    "\n",
    "plt.show()"
   ]
  }
 ],
 "metadata": {
  "kernelspec": {
   "display_name": "spinw",
   "language": "python",
   "name": "spinw"
  },
  "language_info": {
   "codemirror_mode": {
    "name": "ipython",
    "version": 3
   },
   "file_extension": ".py",
   "mimetype": "text/x-python",
   "name": "python",
   "nbconvert_exporter": "python",
   "pygments_lexer": "ipython3",
   "version": "3.9.18"
  }
 },
 "nbformat": 4,
 "nbformat_minor": 5
}
